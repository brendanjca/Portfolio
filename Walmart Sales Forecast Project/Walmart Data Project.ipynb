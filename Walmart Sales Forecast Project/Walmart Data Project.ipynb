{
 "cells": [
  {
   "cell_type": "markdown",
   "id": "6a853c08",
   "metadata": {},
   "source": [
    "# <center>💎 Walmart Data Project 💎<center>"
   ]
  },
  {
   "cell_type": "markdown",
   "id": "0a8d46c8",
   "metadata": {},
   "source": [
    "# 1. Introduction"
   ]
  },
  {
   "cell_type": "markdown",
   "id": "b553e7e4",
   "metadata": {},
   "source": [
    "Welcome to Walmart! How may I help you today? \n",
    "\n",
    "Oh, you're looking for vertical monitors? Come right this way! \n",
    "\n",
    "Say, you wouldn't happen to be one of those **data analysts** I keep hearing about? \n",
    "\n",
    "*Oh, you are!?* \n",
    "\n",
    "Actually, in that case, I will be needing help from you! You see, we've got a really **big** problem on our hands..."
   ]
  },
  {
   "cell_type": "markdown",
   "id": "11b7767d",
   "metadata": {},
   "source": [
    "As one of the largest retailers on Earth, we get millions of customers walking in through the door each day. Normally, this number is very steady.\n",
    "\n",
    "But as you can imagine, during holidays and certain events, we run **huge promotions**, which as you can guess has an impact on demand."
   ]
  },
  {
   "cell_type": "markdown",
   "id": "2ab1cc2b",
   "metadata": {},
   "source": [
    "Our main issue is that we run into unforeseen demands, and thus run out of stock, due to our wonky machine learning algorithms.\n",
    "\n",
    "**What we need is a way to predict sales and demand accurately**. \n",
    "\n",
    "That way, we can be sure to have enough stock on hand to match demand, which will maximize profits!\n",
    "\n",
    "To be specific, we want to know whether certain factors such as holidays, temperature, CPI, gas prices, and so on can be good predictors for future sales."
   ]
  },
  {
   "cell_type": "markdown",
   "id": "f7101611",
   "metadata": {},
   "source": [
    "# 2. Looking at the data"
   ]
  },
  {
   "cell_type": "markdown",
   "id": "22fea96c",
   "metadata": {},
   "source": [
    "Let's begin by taking a look at the data.\n",
    "\n",
    "FYI: This is historical data that covers sales from 2010-02-05 to 2012-11-01. Within this file you will find the following fields:\n",
    "\n",
    "**Store** - the store number\n",
    "\n",
    "**Date** - the week of sales\n",
    "\n",
    "**Weekly_Sales** - sales for the given store\n",
    "\n",
    "**Holiday_Flag** - whether the week is a special holiday week 1 – Holiday week 0 – Non-holiday week\n",
    "\n",
    "**Temperature** - Temperature on the day of sale\n",
    "\n",
    "**Fuel_Price** - Cost of fuel in the region\n",
    "\n",
    "**CPI** – Prevailing consumer price index\n",
    "\n",
    "**Unemployment** - Prevailing unemployment rate\n",
    "\n",
    "Holiday Events:\n",
    "\n",
    "**Super Bowl**: 12-Feb-10, 11-Feb-11, 10-Feb-12\n",
    "\n",
    "**Labour Day**: 10-Sep-10, 9-Sep-11, 7-Sep-12\n",
    "\n",
    "**Thanksgiving/Black Friday**: 26-Nov-10, 25-Nov-11\n",
    "\n",
    "**Pre-Christmas**: 17-Dec-2010, 16-Dec-2011\n",
    "\n",
    "**Christmas**: 24-Dec-2010, 23-Dec-2011\n",
    "\n",
    "**Boxing Day**: 31-Dec-2010, 30-Dec-2011\n",
    "\n",
    "Seems like we are missing the winter holiday events in 2012. Duly noted!"
   ]
  },
  {
   "cell_type": "code",
   "execution_count": 1,
   "id": "c9d59a20",
   "metadata": {},
   "outputs": [],
   "source": [
    "import pandas as pd\n",
    "import numpy as np\n",
    "import numpy as np\n",
    "import statsmodels.api as sm\n",
    "import seaborn as sns\n",
    "import matplotlib.pyplot as plt\n",
    "\n",
    "df = pd.read_csv('Walmart_Store_sales.csv')"
   ]
  },
  {
   "cell_type": "code",
   "execution_count": 2,
   "id": "c66d3075",
   "metadata": {},
   "outputs": [
    {
     "name": "stdout",
     "output_type": "stream",
     "text": [
      "<class 'pandas.core.frame.DataFrame'>\n",
      "RangeIndex: 6435 entries, 0 to 6434\n",
      "Data columns (total 8 columns):\n",
      " #   Column        Non-Null Count  Dtype  \n",
      "---  ------        --------------  -----  \n",
      " 0   Store         6435 non-null   int64  \n",
      " 1   Date          6435 non-null   object \n",
      " 2   Weekly_Sales  6435 non-null   float64\n",
      " 3   Holiday_Flag  6435 non-null   int64  \n",
      " 4   Temperature   6435 non-null   float64\n",
      " 5   Fuel_Price    6435 non-null   float64\n",
      " 6   CPI           6435 non-null   float64\n",
      " 7   Unemployment  6435 non-null   float64\n",
      "dtypes: float64(5), int64(2), object(1)\n",
      "memory usage: 402.3+ KB\n"
     ]
    }
   ],
   "source": [
    "df.info()"
   ]
  },
  {
   "cell_type": "code",
   "execution_count": 3,
   "id": "b3f245fb",
   "metadata": {},
   "outputs": [
    {
     "data": {
      "text/plain": [
       "4     143\n",
       "2     143\n",
       "10    143\n",
       "14    143\n",
       "18    143\n",
       "22    143\n",
       "26    143\n",
       "30    143\n",
       "34    143\n",
       "38    143\n",
       "42    143\n",
       "3     143\n",
       "7     143\n",
       "11    143\n",
       "15    143\n",
       "19    143\n",
       "23    143\n",
       "27    143\n",
       "31    143\n",
       "35    143\n",
       "39    143\n",
       "6     143\n",
       "45    143\n",
       "8     143\n",
       "41    143\n",
       "12    143\n",
       "16    143\n",
       "20    143\n",
       "24    143\n",
       "28    143\n",
       "32    143\n",
       "36    143\n",
       "40    143\n",
       "44    143\n",
       "1     143\n",
       "5     143\n",
       "9     143\n",
       "13    143\n",
       "17    143\n",
       "21    143\n",
       "25    143\n",
       "29    143\n",
       "33    143\n",
       "37    143\n",
       "43    143\n",
       "Name: Store, dtype: int64"
      ]
     },
     "execution_count": 3,
     "metadata": {},
     "output_type": "execute_result"
    }
   ],
   "source": [
    "stores = df[\"Store\"].value_counts()\n",
    "stores # counting how many data points for each store"
   ]
  },
  {
   "cell_type": "markdown",
   "id": "bb3b6c90",
   "metadata": {},
   "source": [
    "Looks like we have 143 slices of data for a grand total of 45 different stores. Not bad!"
   ]
  },
  {
   "cell_type": "code",
   "execution_count": 4,
   "id": "d5f4d9e7",
   "metadata": {},
   "outputs": [
    {
     "data": {
      "text/plain": [
       "Store           0\n",
       "Date            0\n",
       "Weekly_Sales    0\n",
       "Holiday_Flag    0\n",
       "Temperature     0\n",
       "Fuel_Price      0\n",
       "CPI             0\n",
       "Unemployment    0\n",
       "dtype: int64"
      ]
     },
     "execution_count": 4,
     "metadata": {},
     "output_type": "execute_result"
    }
   ],
   "source": [
    "df.isnull().sum() # checking to see if there is any null data"
   ]
  },
  {
   "cell_type": "markdown",
   "id": "dcc71b59",
   "metadata": {},
   "source": [
    "No null values--that's what we like to see 😎"
   ]
  },
  {
   "cell_type": "code",
   "execution_count": 5,
   "id": "6ba44179",
   "metadata": {},
   "outputs": [
    {
     "data": {
      "text/plain": [
       "0"
      ]
     },
     "execution_count": 5,
     "metadata": {},
     "output_type": "execute_result"
    }
   ],
   "source": [
    "df.duplicated().sum() # checking to see if there is any duplicated data"
   ]
  },
  {
   "cell_type": "markdown",
   "id": "6b1c7052",
   "metadata": {},
   "source": [
    "Every bit of data in our data set is a unique special snowflake--just like you 😉"
   ]
  },
  {
   "cell_type": "code",
   "execution_count": 6,
   "id": "3f3b04d8",
   "metadata": {},
   "outputs": [
    {
     "data": {
      "text/html": [
       "<div>\n",
       "<style scoped>\n",
       "    .dataframe tbody tr th:only-of-type {\n",
       "        vertical-align: middle;\n",
       "    }\n",
       "\n",
       "    .dataframe tbody tr th {\n",
       "        vertical-align: top;\n",
       "    }\n",
       "\n",
       "    .dataframe thead th {\n",
       "        text-align: right;\n",
       "    }\n",
       "</style>\n",
       "<table border=\"1\" class=\"dataframe\">\n",
       "  <thead>\n",
       "    <tr style=\"text-align: right;\">\n",
       "      <th></th>\n",
       "      <th>Store</th>\n",
       "      <th>Date</th>\n",
       "      <th>Weekly_Sales</th>\n",
       "      <th>Holiday_Flag</th>\n",
       "      <th>Temperature</th>\n",
       "      <th>Fuel_Price</th>\n",
       "      <th>CPI</th>\n",
       "      <th>Unemployment</th>\n",
       "    </tr>\n",
       "  </thead>\n",
       "  <tbody>\n",
       "    <tr>\n",
       "      <th>0</th>\n",
       "      <td>1</td>\n",
       "      <td>05-02-2010</td>\n",
       "      <td>1643690.90</td>\n",
       "      <td>0</td>\n",
       "      <td>42.31</td>\n",
       "      <td>2.572</td>\n",
       "      <td>211.096358</td>\n",
       "      <td>8.106</td>\n",
       "    </tr>\n",
       "    <tr>\n",
       "      <th>1</th>\n",
       "      <td>1</td>\n",
       "      <td>12-02-2010</td>\n",
       "      <td>1641957.44</td>\n",
       "      <td>1</td>\n",
       "      <td>38.51</td>\n",
       "      <td>2.548</td>\n",
       "      <td>211.242170</td>\n",
       "      <td>8.106</td>\n",
       "    </tr>\n",
       "    <tr>\n",
       "      <th>2</th>\n",
       "      <td>1</td>\n",
       "      <td>19-02-2010</td>\n",
       "      <td>1611968.17</td>\n",
       "      <td>0</td>\n",
       "      <td>39.93</td>\n",
       "      <td>2.514</td>\n",
       "      <td>211.289143</td>\n",
       "      <td>8.106</td>\n",
       "    </tr>\n",
       "    <tr>\n",
       "      <th>3</th>\n",
       "      <td>1</td>\n",
       "      <td>26-02-2010</td>\n",
       "      <td>1409727.59</td>\n",
       "      <td>0</td>\n",
       "      <td>46.63</td>\n",
       "      <td>2.561</td>\n",
       "      <td>211.319643</td>\n",
       "      <td>8.106</td>\n",
       "    </tr>\n",
       "    <tr>\n",
       "      <th>4</th>\n",
       "      <td>1</td>\n",
       "      <td>05-03-2010</td>\n",
       "      <td>1554806.68</td>\n",
       "      <td>0</td>\n",
       "      <td>46.50</td>\n",
       "      <td>2.625</td>\n",
       "      <td>211.350143</td>\n",
       "      <td>8.106</td>\n",
       "    </tr>\n",
       "  </tbody>\n",
       "</table>\n",
       "</div>"
      ],
      "text/plain": [
       "   Store        Date  Weekly_Sales  Holiday_Flag  Temperature  Fuel_Price  \\\n",
       "0      1  05-02-2010    1643690.90             0        42.31       2.572   \n",
       "1      1  12-02-2010    1641957.44             1        38.51       2.548   \n",
       "2      1  19-02-2010    1611968.17             0        39.93       2.514   \n",
       "3      1  26-02-2010    1409727.59             0        46.63       2.561   \n",
       "4      1  05-03-2010    1554806.68             0        46.50       2.625   \n",
       "\n",
       "          CPI  Unemployment  \n",
       "0  211.096358         8.106  \n",
       "1  211.242170         8.106  \n",
       "2  211.289143         8.106  \n",
       "3  211.319643         8.106  \n",
       "4  211.350143         8.106  "
      ]
     },
     "execution_count": 6,
     "metadata": {},
     "output_type": "execute_result"
    }
   ],
   "source": [
    "df.head()"
   ]
  },
  {
   "cell_type": "markdown",
   "id": "12d822d9",
   "metadata": {},
   "source": [
    "Everything is looking good so far. Let's get onto the nitty-gritty!"
   ]
  },
  {
   "cell_type": "markdown",
   "id": "7a16489f",
   "metadata": {},
   "source": [
    "# 3. Analysis"
   ]
  },
  {
   "cell_type": "code",
   "execution_count": 7,
   "id": "a551d010",
   "metadata": {},
   "outputs": [
    {
     "data": {
      "text/html": [
       "<div>\n",
       "<style scoped>\n",
       "    .dataframe tbody tr th:only-of-type {\n",
       "        vertical-align: middle;\n",
       "    }\n",
       "\n",
       "    .dataframe tbody tr th {\n",
       "        vertical-align: top;\n",
       "    }\n",
       "\n",
       "    .dataframe thead th {\n",
       "        text-align: right;\n",
       "    }\n",
       "</style>\n",
       "<table border=\"1\" class=\"dataframe\">\n",
       "  <thead>\n",
       "    <tr style=\"text-align: right;\">\n",
       "      <th></th>\n",
       "      <th>Store</th>\n",
       "      <th>Weekly_Sales</th>\n",
       "      <th>Holiday_Flag</th>\n",
       "      <th>Temperature</th>\n",
       "      <th>Fuel_Price</th>\n",
       "      <th>CPI</th>\n",
       "      <th>Unemployment</th>\n",
       "    </tr>\n",
       "  </thead>\n",
       "  <tbody>\n",
       "    <tr>\n",
       "      <th>count</th>\n",
       "      <td>6435.000000</td>\n",
       "      <td>6.435000e+03</td>\n",
       "      <td>6435.000000</td>\n",
       "      <td>6435.000000</td>\n",
       "      <td>6435.000000</td>\n",
       "      <td>6435.000000</td>\n",
       "      <td>6435.000000</td>\n",
       "    </tr>\n",
       "    <tr>\n",
       "      <th>mean</th>\n",
       "      <td>23.000000</td>\n",
       "      <td>1.046965e+06</td>\n",
       "      <td>0.069930</td>\n",
       "      <td>60.663782</td>\n",
       "      <td>3.358607</td>\n",
       "      <td>171.578394</td>\n",
       "      <td>7.999151</td>\n",
       "    </tr>\n",
       "    <tr>\n",
       "      <th>std</th>\n",
       "      <td>12.988182</td>\n",
       "      <td>5.643666e+05</td>\n",
       "      <td>0.255049</td>\n",
       "      <td>18.444933</td>\n",
       "      <td>0.459020</td>\n",
       "      <td>39.356712</td>\n",
       "      <td>1.875885</td>\n",
       "    </tr>\n",
       "    <tr>\n",
       "      <th>min</th>\n",
       "      <td>1.000000</td>\n",
       "      <td>2.099862e+05</td>\n",
       "      <td>0.000000</td>\n",
       "      <td>-2.060000</td>\n",
       "      <td>2.472000</td>\n",
       "      <td>126.064000</td>\n",
       "      <td>3.879000</td>\n",
       "    </tr>\n",
       "    <tr>\n",
       "      <th>25%</th>\n",
       "      <td>12.000000</td>\n",
       "      <td>5.533501e+05</td>\n",
       "      <td>0.000000</td>\n",
       "      <td>47.460000</td>\n",
       "      <td>2.933000</td>\n",
       "      <td>131.735000</td>\n",
       "      <td>6.891000</td>\n",
       "    </tr>\n",
       "    <tr>\n",
       "      <th>50%</th>\n",
       "      <td>23.000000</td>\n",
       "      <td>9.607460e+05</td>\n",
       "      <td>0.000000</td>\n",
       "      <td>62.670000</td>\n",
       "      <td>3.445000</td>\n",
       "      <td>182.616521</td>\n",
       "      <td>7.874000</td>\n",
       "    </tr>\n",
       "    <tr>\n",
       "      <th>75%</th>\n",
       "      <td>34.000000</td>\n",
       "      <td>1.420159e+06</td>\n",
       "      <td>0.000000</td>\n",
       "      <td>74.940000</td>\n",
       "      <td>3.735000</td>\n",
       "      <td>212.743293</td>\n",
       "      <td>8.622000</td>\n",
       "    </tr>\n",
       "    <tr>\n",
       "      <th>max</th>\n",
       "      <td>45.000000</td>\n",
       "      <td>3.818686e+06</td>\n",
       "      <td>1.000000</td>\n",
       "      <td>100.140000</td>\n",
       "      <td>4.468000</td>\n",
       "      <td>227.232807</td>\n",
       "      <td>14.313000</td>\n",
       "    </tr>\n",
       "  </tbody>\n",
       "</table>\n",
       "</div>"
      ],
      "text/plain": [
       "             Store  Weekly_Sales  Holiday_Flag  Temperature   Fuel_Price  \\\n",
       "count  6435.000000  6.435000e+03   6435.000000  6435.000000  6435.000000   \n",
       "mean     23.000000  1.046965e+06      0.069930    60.663782     3.358607   \n",
       "std      12.988182  5.643666e+05      0.255049    18.444933     0.459020   \n",
       "min       1.000000  2.099862e+05      0.000000    -2.060000     2.472000   \n",
       "25%      12.000000  5.533501e+05      0.000000    47.460000     2.933000   \n",
       "50%      23.000000  9.607460e+05      0.000000    62.670000     3.445000   \n",
       "75%      34.000000  1.420159e+06      0.000000    74.940000     3.735000   \n",
       "max      45.000000  3.818686e+06      1.000000   100.140000     4.468000   \n",
       "\n",
       "               CPI  Unemployment  \n",
       "count  6435.000000   6435.000000  \n",
       "mean    171.578394      7.999151  \n",
       "std      39.356712      1.875885  \n",
       "min     126.064000      3.879000  \n",
       "25%     131.735000      6.891000  \n",
       "50%     182.616521      7.874000  \n",
       "75%     212.743293      8.622000  \n",
       "max     227.232807     14.313000  "
      ]
     },
     "execution_count": 7,
     "metadata": {},
     "output_type": "execute_result"
    }
   ],
   "source": [
    "df.describe()"
   ]
  },
  {
   "cell_type": "code",
   "execution_count": 8,
   "id": "2f7c5e66",
   "metadata": {},
   "outputs": [
    {
     "data": {
      "text/plain": [
       "47113419.49027974"
      ]
     },
     "execution_count": 8,
     "metadata": {},
     "output_type": "execute_result"
    }
   ],
   "source": [
    "sales_weekly = df.groupby([\"Date\"])[\"Weekly_Sales\"].sum()\n",
    "average_sales = sales_weekly.mean()\n",
    "average_sales"
   ]
  },
  {
   "cell_type": "markdown",
   "id": "e8b45a5c",
   "metadata": {},
   "source": [
    "Here we can see that the average total weekly sales across all stores for each week is $47,113,419.49\n",
    "\n",
    "Next, I want to confirm that holidays result in more sales than non-holidays. This will be our first clue that gets our analysis-ball rolling.\n",
    "\n",
    "Let's recall which dates correspond to holidays:\n",
    "\n",
    "**Super Bowl**: 12-Feb-10, 11-Feb-11, 10-Feb-12\n",
    "\n",
    "**Labour Day**: 10-Sep-10, 9-Sep-11, 7-Sep-12\n",
    "\n",
    "**Thanksgiving/Black Friday**: 26-Nov-10, 25-Nov-11\n",
    "\n",
    "**Pre-Christmas**: 17-Dec-2010, 16-Dec-2011\n",
    "\n",
    "**Christmas**: 24-Dec-2010, 23-Dec-2011\n",
    "\n",
    "**Boxing Day**: 31-Dec-2010, 30-Dec-2011\n",
    "\n",
    "First, I want to see the total sales volume for each holiday, and the average.\n"
   ]
  },
  {
   "cell_type": "code",
   "execution_count": 9,
   "id": "6c521b29",
   "metadata": {
    "scrolled": true
   },
   "outputs": [
    {
     "name": "stdout",
     "output_type": "stream",
     "text": [
      "super_bowl :  145682278.34000003\n",
      "labour_day :  140727684.68\n",
      "thanksgiving :  132414608.5\n",
      "pre_xmas :  121906495.78999999\n",
      "xmas :  157929656.90999997\n",
      "boxing_day :  86474980.04\n",
      " \n",
      "super_bowl avg:  48560759.44666668\n",
      "labour_day avg:  46909228.22666667\n",
      "thanksgiving avg:  66207304.25\n",
      "pre_xmas avg:  60953247.894999996\n",
      "xmas avg:  78964828.45499998\n",
      "boxing_day avg:  43237490.02\n"
     ]
    }
   ],
   "source": [
    "a=df[df['Date']== '12-02-2010']['Weekly_Sales'].sum()\n",
    "b=df[df['Date']== '11-02-2011']['Weekly_Sales'].sum()\n",
    "c=df[df['Date']== '10-02-2012']['Weekly_Sales'].sum()\n",
    "super_bowl = a+b+c\n",
    "\n",
    "a1=df[df['Date']== '10-09-2010']['Weekly_Sales'].sum()\n",
    "b1=df[df['Date']== '09-09-2011']['Weekly_Sales'].sum()\n",
    "c1=df[df['Date']== '07-09-2012']['Weekly_Sales'].sum() \n",
    "labour_day = a1+b1+c1\n",
    "\n",
    "a2=df[df['Date']== '26-11-2010']['Weekly_Sales'].sum()\n",
    "b2=df[df['Date']== '25-11-2011']['Weekly_Sales'].sum()\n",
    "thanksgiving = a2+b2\n",
    "\n",
    "a3=df[df['Date']== '17-12-2010']['Weekly_Sales'].sum()\n",
    "b3=df[df['Date']== '16-12-2011']['Weekly_Sales'].sum()\n",
    "pre_xmas = a3+b3\n",
    "\n",
    "a4=df[df['Date']== '24-12-2010']['Weekly_Sales'].sum()\n",
    "b4=df[df['Date']== '23-12-2011']['Weekly_Sales'].sum()\n",
    "xmas = a4+b4\n",
    "\n",
    "a5=df[df['Date']== '31-12-2010']['Weekly_Sales'].sum()\n",
    "b5=df[df['Date']== '30-12-2011']['Weekly_Sales'].sum()\n",
    "boxing_day = a5+b5\n",
    "\n",
    "print('super_bowl : ',super_bowl)\n",
    "print('labour_day : ',labour_day)\n",
    "print('thanksgiving : ',thanksgiving)\n",
    "print('pre_xmas : ',pre_xmas)\n",
    "print('xmas : ',xmas)\n",
    "print('boxing_day : ',boxing_day)\n",
    "\n",
    "print(' ')\n",
    "\n",
    "print('super_bowl avg: ',super_bowl/3)\n",
    "print('labour_day avg: ',labour_day/3)\n",
    "print('thanksgiving avg: ',thanksgiving/2)\n",
    "print('pre_xmas avg: ',pre_xmas/2)\n",
    "print('xmas avg: ',xmas/2)\n",
    "print('boxing_day avg: ',boxing_day/2)"
   ]
  },
  {
   "cell_type": "markdown",
   "id": "9dbe6689",
   "metadata": {},
   "source": [
    "Some interesting things here: we can see that despite only having two years worth of sales data for thanksgiving, pre_xmas and xmas, they are on par with the total sales of super_bowl, and labour_day which both have three years worth of sales!\n",
    "\n",
    "When we look at the average, our suspicions are confirmed: Black Friday and Christmas time are when customers go bananas $$$.\n",
    "\n",
    "Let's visualize this."
   ]
  },
  {
   "cell_type": "code",
   "execution_count": 10,
   "id": "30da0c53",
   "metadata": {},
   "outputs": [
    {
     "data": {
      "text/html": [
       "<div>\n",
       "<style scoped>\n",
       "    .dataframe tbody tr th:only-of-type {\n",
       "        vertical-align: middle;\n",
       "    }\n",
       "\n",
       "    .dataframe tbody tr th {\n",
       "        vertical-align: top;\n",
       "    }\n",
       "\n",
       "    .dataframe thead th {\n",
       "        text-align: right;\n",
       "    }\n",
       "</style>\n",
       "<table border=\"1\" class=\"dataframe\">\n",
       "  <thead>\n",
       "    <tr style=\"text-align: right;\">\n",
       "      <th></th>\n",
       "      <th>Holiday</th>\n",
       "      <th>Sales</th>\n",
       "    </tr>\n",
       "  </thead>\n",
       "  <tbody>\n",
       "    <tr>\n",
       "      <th>0</th>\n",
       "      <td>super_bowl avg</td>\n",
       "      <td>48560759.45</td>\n",
       "    </tr>\n",
       "    <tr>\n",
       "      <th>1</th>\n",
       "      <td>labour_day avg</td>\n",
       "      <td>46909228.23</td>\n",
       "    </tr>\n",
       "    <tr>\n",
       "      <th>2</th>\n",
       "      <td>thanksgiving avg</td>\n",
       "      <td>66207304.25</td>\n",
       "    </tr>\n",
       "    <tr>\n",
       "      <th>3</th>\n",
       "      <td>pre_xmas avg</td>\n",
       "      <td>60953247.89</td>\n",
       "    </tr>\n",
       "    <tr>\n",
       "      <th>4</th>\n",
       "      <td>xmas avg</td>\n",
       "      <td>78964828.45</td>\n",
       "    </tr>\n",
       "    <tr>\n",
       "      <th>5</th>\n",
       "      <td>boxing_day avg</td>\n",
       "      <td>43237490.02</td>\n",
       "    </tr>\n",
       "    <tr>\n",
       "      <th>6</th>\n",
       "      <td>normal avg</td>\n",
       "      <td>47113419.49</td>\n",
       "    </tr>\n",
       "  </tbody>\n",
       "</table>\n",
       "</div>"
      ],
      "text/plain": [
       "            Holiday        Sales\n",
       "0    super_bowl avg  48560759.45\n",
       "1    labour_day avg  46909228.23\n",
       "2  thanksgiving avg  66207304.25\n",
       "3      pre_xmas avg  60953247.89\n",
       "4          xmas avg  78964828.45\n",
       "5    boxing_day avg  43237490.02\n",
       "6        normal avg  47113419.49"
      ]
     },
     "execution_count": 10,
     "metadata": {},
     "output_type": "execute_result"
    }
   ],
   "source": [
    "# Converting our data into a dataframe for visualization analysis using seaborn.\n",
    "# I'm also adding another row for the average sales of each week.\n",
    "\n",
    "d = {'Holiday': ['super_bowl avg',\n",
    "              'labour_day avg',\n",
    "              'thanksgiving avg',\n",
    "              'pre_xmas avg',\n",
    "              'xmas avg',\n",
    "              'boxing_day avg',\n",
    "              'normal avg'], \n",
    "     'Sales': [48560759.45,\n",
    "               46909228.23,\n",
    "               66207304.25,\n",
    "               60953247.89,\n",
    "               78964828.45,\n",
    "               43237490.02,\n",
    "               47113419.49]}\n",
    "holiday = pd.DataFrame(data=d)\n",
    "holiday.head(7)"
   ]
  },
  {
   "cell_type": "code",
   "execution_count": 11,
   "id": "6e688788",
   "metadata": {},
   "outputs": [
    {
     "data": {
      "text/plain": [
       "<AxesSubplot:xlabel='Holiday', ylabel='Sales'>"
      ]
     },
     "execution_count": 11,
     "metadata": {},
     "output_type": "execute_result"
    },
    {
     "data": {
      "image/png": "[encoded data removed]",
      "text/plain": [
       "<Figure size 864x432 with 1 Axes>"
      ]
     },
     "metadata": {
      "needs_background": "light"
     },
     "output_type": "display_data"
    }
   ],
   "source": [
    "plt.figure(figsize=(12,6))\n",
    "\n",
    "sns.barplot(x='Holiday', y='Sales', data=holiday)"
   ]
  },
  {
   "cell_type": "markdown",
   "id": "77b47aec",
   "metadata": {},
   "source": [
    "Seems that Christmas, Thanksgiving (Black Friday), and the Pre-Christmas run-up are the most significant holidays that impact sales.\n",
    "\n",
    "Visually, it looks like the Super Bowl and Labour Day holidays have little to no impact on sales.\n",
    "\n",
    "One interesting thing to note is that it seems like Boxing Day week has less sales than the average week. Perhaps customers are all burnt out from shopping! (or maybe they get severe anxiety when they see their credit card statement...)\n",
    "\n",
    "(everyone's credit card post-Xmas:)"
   ]
  },
  {
   "cell_type": "markdown",
   "id": "e89f45a3",
   "metadata": {},
   "source": [
    "# 4. Adding a New Column"
   ]
  },
  {
   "cell_type": "markdown",
   "id": "3f014864",
   "metadata": {},
   "source": [
    "Now, my ultimate goal is to do is run a linear regression analysis. \n",
    "\n",
    "The only thing is, is that in our current dataframe, there is only a column that specifies whether or not a particular week is a holiday (\"1\") or not (\"0\"). Way too vague for our purposes! We want to know *which* holidays impact our sales--not just holidays in general. That's why we deliberately looked at specific holidays in the previous section.\n",
    "\n",
    "For this, we will need to create some new columns and then create dummy values."
   ]
  },
  {
   "cell_type": "code",
   "execution_count": 12,
   "id": "aba37020",
   "metadata": {},
   "outputs": [
    {
     "data": {
      "text/html": [
       "<div>\n",
       "<style scoped>\n",
       "    .dataframe tbody tr th:only-of-type {\n",
       "        vertical-align: middle;\n",
       "    }\n",
       "\n",
       "    .dataframe tbody tr th {\n",
       "        vertical-align: top;\n",
       "    }\n",
       "\n",
       "    .dataframe thead th {\n",
       "        text-align: right;\n",
       "    }\n",
       "</style>\n",
       "<table border=\"1\" class=\"dataframe\">\n",
       "  <thead>\n",
       "    <tr style=\"text-align: right;\">\n",
       "      <th></th>\n",
       "      <th>Store</th>\n",
       "      <th>Date</th>\n",
       "      <th>Weekly_Sales</th>\n",
       "      <th>Holiday_Flag</th>\n",
       "      <th>Temperature</th>\n",
       "      <th>Fuel_Price</th>\n",
       "      <th>CPI</th>\n",
       "      <th>Unemployment</th>\n",
       "      <th>Holiday</th>\n",
       "    </tr>\n",
       "  </thead>\n",
       "  <tbody>\n",
       "    <tr>\n",
       "      <th>0</th>\n",
       "      <td>1</td>\n",
       "      <td>05-02-2010</td>\n",
       "      <td>1643690.90</td>\n",
       "      <td>0</td>\n",
       "      <td>42.31</td>\n",
       "      <td>2.572</td>\n",
       "      <td>211.096358</td>\n",
       "      <td>8.106</td>\n",
       "      <td>No Holiday</td>\n",
       "    </tr>\n",
       "    <tr>\n",
       "      <th>1</th>\n",
       "      <td>1</td>\n",
       "      <td>12-02-2010</td>\n",
       "      <td>1641957.44</td>\n",
       "      <td>1</td>\n",
       "      <td>38.51</td>\n",
       "      <td>2.548</td>\n",
       "      <td>211.242170</td>\n",
       "      <td>8.106</td>\n",
       "      <td>Super Bowl</td>\n",
       "    </tr>\n",
       "    <tr>\n",
       "      <th>2</th>\n",
       "      <td>1</td>\n",
       "      <td>19-02-2010</td>\n",
       "      <td>1611968.17</td>\n",
       "      <td>0</td>\n",
       "      <td>39.93</td>\n",
       "      <td>2.514</td>\n",
       "      <td>211.289143</td>\n",
       "      <td>8.106</td>\n",
       "      <td>No Holiday</td>\n",
       "    </tr>\n",
       "    <tr>\n",
       "      <th>3</th>\n",
       "      <td>1</td>\n",
       "      <td>26-02-2010</td>\n",
       "      <td>1409727.59</td>\n",
       "      <td>0</td>\n",
       "      <td>46.63</td>\n",
       "      <td>2.561</td>\n",
       "      <td>211.319643</td>\n",
       "      <td>8.106</td>\n",
       "      <td>No Holiday</td>\n",
       "    </tr>\n",
       "    <tr>\n",
       "      <th>4</th>\n",
       "      <td>1</td>\n",
       "      <td>05-03-2010</td>\n",
       "      <td>1554806.68</td>\n",
       "      <td>0</td>\n",
       "      <td>46.50</td>\n",
       "      <td>2.625</td>\n",
       "      <td>211.350143</td>\n",
       "      <td>8.106</td>\n",
       "      <td>No Holiday</td>\n",
       "    </tr>\n",
       "    <tr>\n",
       "      <th>...</th>\n",
       "      <td>...</td>\n",
       "      <td>...</td>\n",
       "      <td>...</td>\n",
       "      <td>...</td>\n",
       "      <td>...</td>\n",
       "      <td>...</td>\n",
       "      <td>...</td>\n",
       "      <td>...</td>\n",
       "      <td>...</td>\n",
       "    </tr>\n",
       "    <tr>\n",
       "      <th>6430</th>\n",
       "      <td>45</td>\n",
       "      <td>28-09-2012</td>\n",
       "      <td>713173.95</td>\n",
       "      <td>0</td>\n",
       "      <td>64.88</td>\n",
       "      <td>3.997</td>\n",
       "      <td>192.013558</td>\n",
       "      <td>8.684</td>\n",
       "      <td>No Holiday</td>\n",
       "    </tr>\n",
       "    <tr>\n",
       "      <th>6431</th>\n",
       "      <td>45</td>\n",
       "      <td>05-10-2012</td>\n",
       "      <td>733455.07</td>\n",
       "      <td>0</td>\n",
       "      <td>64.89</td>\n",
       "      <td>3.985</td>\n",
       "      <td>192.170412</td>\n",
       "      <td>8.667</td>\n",
       "      <td>No Holiday</td>\n",
       "    </tr>\n",
       "    <tr>\n",
       "      <th>6432</th>\n",
       "      <td>45</td>\n",
       "      <td>12-10-2012</td>\n",
       "      <td>734464.36</td>\n",
       "      <td>0</td>\n",
       "      <td>54.47</td>\n",
       "      <td>4.000</td>\n",
       "      <td>192.327265</td>\n",
       "      <td>8.667</td>\n",
       "      <td>No Holiday</td>\n",
       "    </tr>\n",
       "    <tr>\n",
       "      <th>6433</th>\n",
       "      <td>45</td>\n",
       "      <td>19-10-2012</td>\n",
       "      <td>718125.53</td>\n",
       "      <td>0</td>\n",
       "      <td>56.47</td>\n",
       "      <td>3.969</td>\n",
       "      <td>192.330854</td>\n",
       "      <td>8.667</td>\n",
       "      <td>No Holiday</td>\n",
       "    </tr>\n",
       "    <tr>\n",
       "      <th>6434</th>\n",
       "      <td>45</td>\n",
       "      <td>26-10-2012</td>\n",
       "      <td>760281.43</td>\n",
       "      <td>0</td>\n",
       "      <td>58.85</td>\n",
       "      <td>3.882</td>\n",
       "      <td>192.308899</td>\n",
       "      <td>8.667</td>\n",
       "      <td>No Holiday</td>\n",
       "    </tr>\n",
       "  </tbody>\n",
       "</table>\n",
       "<p>6435 rows × 9 columns</p>\n",
       "</div>"
      ],
      "text/plain": [
       "      Store        Date  Weekly_Sales  Holiday_Flag  Temperature  Fuel_Price  \\\n",
       "0         1  05-02-2010    1643690.90             0        42.31       2.572   \n",
       "1         1  12-02-2010    1641957.44             1        38.51       2.548   \n",
       "2         1  19-02-2010    1611968.17             0        39.93       2.514   \n",
       "3         1  26-02-2010    1409727.59             0        46.63       2.561   \n",
       "4         1  05-03-2010    1554806.68             0        46.50       2.625   \n",
       "...     ...         ...           ...           ...          ...         ...   \n",
       "6430     45  28-09-2012     713173.95             0        64.88       3.997   \n",
       "6431     45  05-10-2012     733455.07             0        64.89       3.985   \n",
       "6432     45  12-10-2012     734464.36             0        54.47       4.000   \n",
       "6433     45  19-10-2012     718125.53             0        56.47       3.969   \n",
       "6434     45  26-10-2012     760281.43             0        58.85       3.882   \n",
       "\n",
       "             CPI  Unemployment     Holiday  \n",
       "0     211.096358         8.106  No Holiday  \n",
       "1     211.242170         8.106  Super Bowl  \n",
       "2     211.289143         8.106  No Holiday  \n",
       "3     211.319643         8.106  No Holiday  \n",
       "4     211.350143         8.106  No Holiday  \n",
       "...          ...           ...         ...  \n",
       "6430  192.013558         8.684  No Holiday  \n",
       "6431  192.170412         8.667  No Holiday  \n",
       "6432  192.327265         8.667  No Holiday  \n",
       "6433  192.330854         8.667  No Holiday  \n",
       "6434  192.308899         8.667  No Holiday  \n",
       "\n",
       "[6435 rows x 9 columns]"
      ]
     },
     "execution_count": 12,
     "metadata": {},
     "output_type": "execute_result"
    }
   ],
   "source": [
    "# Let's create a function that will tell us which holidays are which and when.\n",
    "\n",
    "def holiday(x):\n",
    "    if x=='12-02-2010' or x=='11-02-2011' or x=='10-02-2012':\n",
    "        return 'Super Bowl'\n",
    "    elif x=='10-09-2010' or x=='09-09-2011' or x=='07-09-2012':\n",
    "        return 'Labour Day'\n",
    "    elif x=='26-11-2010' or x=='25-11-2011':\n",
    "        return 'Thanksgiving'\n",
    "    elif x=='17-12-2010' or x=='16-12-2011':\n",
    "        return 'Pre-Xmas'\n",
    "    elif x=='24-12-2010' or x== '23-12-2011':\n",
    "        return 'Xmas'\n",
    "    elif x=='31-12-2010' or x== '30-12-2011':\n",
    "        return 'Boxing Day'\n",
    "    else: return 'No Holiday'\n",
    "\n",
    "df[\"Holiday\"] = df[\"Date\"].apply(holiday)\n",
    "\n",
    "df"
   ]
  },
  {
   "cell_type": "markdown",
   "id": "f339f1d7",
   "metadata": {},
   "source": [
    "Now let's double check to make sure there are as many holidays as we counted before."
   ]
  },
  {
   "cell_type": "code",
   "execution_count": 13,
   "id": "0bd50298",
   "metadata": {},
   "outputs": [
    {
     "data": {
      "text/plain": [
       "No Holiday      5805\n",
       "Labour Day       135\n",
       "Super Bowl       135\n",
       "Xmas              90\n",
       "Thanksgiving      90\n",
       "Pre-Xmas          90\n",
       "Boxing Day        90\n",
       "Name: Holiday, dtype: int64"
      ]
     },
     "execution_count": 13,
     "metadata": {},
     "output_type": "execute_result"
    }
   ],
   "source": [
    "df[\"Holiday\"].value_counts()"
   ]
  },
  {
   "cell_type": "code",
   "execution_count": 14,
   "id": "026976bd",
   "metadata": {},
   "outputs": [
    {
     "data": {
      "text/plain": [
       "3.0"
      ]
     },
     "execution_count": 14,
     "metadata": {},
     "output_type": "execute_result"
    }
   ],
   "source": [
    "# We know there are 45 stores, so we need to divide the Labour Day and Super Bowl totals by 45.\n",
    "135 / 45 "
   ]
  },
  {
   "cell_type": "code",
   "execution_count": 15,
   "id": "113d9881",
   "metadata": {},
   "outputs": [
    {
     "data": {
      "text/plain": [
       "2.0"
      ]
     },
     "execution_count": 15,
     "metadata": {},
     "output_type": "execute_result"
    }
   ],
   "source": [
    "# Same goes for the other holidays.\n",
    "90 / 45"
   ]
  },
  {
   "cell_type": "markdown",
   "id": "1a770ca8",
   "metadata": {},
   "source": [
    "Perfecto! Now let's get those dummy variables."
   ]
  },
  {
   "cell_type": "code",
   "execution_count": 16,
   "id": "02aa0bf3",
   "metadata": {
    "scrolled": true
   },
   "outputs": [
    {
     "data": {
      "text/html": [
       "<div>\n",
       "<style scoped>\n",
       "    .dataframe tbody tr th:only-of-type {\n",
       "        vertical-align: middle;\n",
       "    }\n",
       "\n",
       "    .dataframe tbody tr th {\n",
       "        vertical-align: top;\n",
       "    }\n",
       "\n",
       "    .dataframe thead th {\n",
       "        text-align: right;\n",
       "    }\n",
       "</style>\n",
       "<table border=\"1\" class=\"dataframe\">\n",
       "  <thead>\n",
       "    <tr style=\"text-align: right;\">\n",
       "      <th></th>\n",
       "      <th>Boxing Day</th>\n",
       "      <th>Labour Day</th>\n",
       "      <th>No Holiday</th>\n",
       "      <th>Pre-Xmas</th>\n",
       "      <th>Super Bowl</th>\n",
       "      <th>Thanksgiving</th>\n",
       "      <th>Xmas</th>\n",
       "    </tr>\n",
       "  </thead>\n",
       "  <tbody>\n",
       "    <tr>\n",
       "      <th>0</th>\n",
       "      <td>0</td>\n",
       "      <td>0</td>\n",
       "      <td>1</td>\n",
       "      <td>0</td>\n",
       "      <td>0</td>\n",
       "      <td>0</td>\n",
       "      <td>0</td>\n",
       "    </tr>\n",
       "    <tr>\n",
       "      <th>1</th>\n",
       "      <td>0</td>\n",
       "      <td>0</td>\n",
       "      <td>0</td>\n",
       "      <td>0</td>\n",
       "      <td>1</td>\n",
       "      <td>0</td>\n",
       "      <td>0</td>\n",
       "    </tr>\n",
       "    <tr>\n",
       "      <th>2</th>\n",
       "      <td>0</td>\n",
       "      <td>0</td>\n",
       "      <td>1</td>\n",
       "      <td>0</td>\n",
       "      <td>0</td>\n",
       "      <td>0</td>\n",
       "      <td>0</td>\n",
       "    </tr>\n",
       "    <tr>\n",
       "      <th>3</th>\n",
       "      <td>0</td>\n",
       "      <td>0</td>\n",
       "      <td>1</td>\n",
       "      <td>0</td>\n",
       "      <td>0</td>\n",
       "      <td>0</td>\n",
       "      <td>0</td>\n",
       "    </tr>\n",
       "    <tr>\n",
       "      <th>4</th>\n",
       "      <td>0</td>\n",
       "      <td>0</td>\n",
       "      <td>1</td>\n",
       "      <td>0</td>\n",
       "      <td>0</td>\n",
       "      <td>0</td>\n",
       "      <td>0</td>\n",
       "    </tr>\n",
       "    <tr>\n",
       "      <th>...</th>\n",
       "      <td>...</td>\n",
       "      <td>...</td>\n",
       "      <td>...</td>\n",
       "      <td>...</td>\n",
       "      <td>...</td>\n",
       "      <td>...</td>\n",
       "      <td>...</td>\n",
       "    </tr>\n",
       "    <tr>\n",
       "      <th>6430</th>\n",
       "      <td>0</td>\n",
       "      <td>0</td>\n",
       "      <td>1</td>\n",
       "      <td>0</td>\n",
       "      <td>0</td>\n",
       "      <td>0</td>\n",
       "      <td>0</td>\n",
       "    </tr>\n",
       "    <tr>\n",
       "      <th>6431</th>\n",
       "      <td>0</td>\n",
       "      <td>0</td>\n",
       "      <td>1</td>\n",
       "      <td>0</td>\n",
       "      <td>0</td>\n",
       "      <td>0</td>\n",
       "      <td>0</td>\n",
       "    </tr>\n",
       "    <tr>\n",
       "      <th>6432</th>\n",
       "      <td>0</td>\n",
       "      <td>0</td>\n",
       "      <td>1</td>\n",
       "      <td>0</td>\n",
       "      <td>0</td>\n",
       "      <td>0</td>\n",
       "      <td>0</td>\n",
       "    </tr>\n",
       "    <tr>\n",
       "      <th>6433</th>\n",
       "      <td>0</td>\n",
       "      <td>0</td>\n",
       "      <td>1</td>\n",
       "      <td>0</td>\n",
       "      <td>0</td>\n",
       "      <td>0</td>\n",
       "      <td>0</td>\n",
       "    </tr>\n",
       "    <tr>\n",
       "      <th>6434</th>\n",
       "      <td>0</td>\n",
       "      <td>0</td>\n",
       "      <td>1</td>\n",
       "      <td>0</td>\n",
       "      <td>0</td>\n",
       "      <td>0</td>\n",
       "      <td>0</td>\n",
       "    </tr>\n",
       "  </tbody>\n",
       "</table>\n",
       "<p>6435 rows × 7 columns</p>\n",
       "</div>"
      ],
      "text/plain": [
       "      Boxing Day  Labour Day  No Holiday  Pre-Xmas  Super Bowl  Thanksgiving  \\\n",
       "0              0           0           1         0           0             0   \n",
       "1              0           0           0         0           1             0   \n",
       "2              0           0           1         0           0             0   \n",
       "3              0           0           1         0           0             0   \n",
       "4              0           0           1         0           0             0   \n",
       "...          ...         ...         ...       ...         ...           ...   \n",
       "6430           0           0           1         0           0             0   \n",
       "6431           0           0           1         0           0             0   \n",
       "6432           0           0           1         0           0             0   \n",
       "6433           0           0           1         0           0             0   \n",
       "6434           0           0           1         0           0             0   \n",
       "\n",
       "      Xmas  \n",
       "0        0  \n",
       "1        0  \n",
       "2        0  \n",
       "3        0  \n",
       "4        0  \n",
       "...    ...  \n",
       "6430     0  \n",
       "6431     0  \n",
       "6432     0  \n",
       "6433     0  \n",
       "6434     0  \n",
       "\n",
       "[6435 rows x 7 columns]"
      ]
     },
     "execution_count": 16,
     "metadata": {},
     "output_type": "execute_result"
    }
   ],
   "source": [
    "dummy = pd.get_dummies(df['Holiday'])\n",
    "\n",
    "dummy"
   ]
  },
  {
   "cell_type": "code",
   "execution_count": 17,
   "id": "2d2f58c4",
   "metadata": {},
   "outputs": [
    {
     "data": {
      "text/html": [
       "<div>\n",
       "<style scoped>\n",
       "    .dataframe tbody tr th:only-of-type {\n",
       "        vertical-align: middle;\n",
       "    }\n",
       "\n",
       "    .dataframe tbody tr th {\n",
       "        vertical-align: top;\n",
       "    }\n",
       "\n",
       "    .dataframe thead th {\n",
       "        text-align: right;\n",
       "    }\n",
       "</style>\n",
       "<table border=\"1\" class=\"dataframe\">\n",
       "  <thead>\n",
       "    <tr style=\"text-align: right;\">\n",
       "      <th></th>\n",
       "      <th>Store</th>\n",
       "      <th>Date</th>\n",
       "      <th>Weekly_Sales</th>\n",
       "      <th>Holiday_Flag</th>\n",
       "      <th>Temperature</th>\n",
       "      <th>Fuel_Price</th>\n",
       "      <th>CPI</th>\n",
       "      <th>Unemployment</th>\n",
       "      <th>Boxing Day</th>\n",
       "      <th>Labour Day</th>\n",
       "      <th>No Holiday</th>\n",
       "      <th>Pre-Xmas</th>\n",
       "      <th>Super Bowl</th>\n",
       "      <th>Thanksgiving</th>\n",
       "      <th>Xmas</th>\n",
       "    </tr>\n",
       "  </thead>\n",
       "  <tbody>\n",
       "    <tr>\n",
       "      <th>0</th>\n",
       "      <td>1</td>\n",
       "      <td>05-02-2010</td>\n",
       "      <td>1643690.90</td>\n",
       "      <td>0</td>\n",
       "      <td>42.31</td>\n",
       "      <td>2.572</td>\n",
       "      <td>211.096358</td>\n",
       "      <td>8.106</td>\n",
       "      <td>0</td>\n",
       "      <td>0</td>\n",
       "      <td>1</td>\n",
       "      <td>0</td>\n",
       "      <td>0</td>\n",
       "      <td>0</td>\n",
       "      <td>0</td>\n",
       "    </tr>\n",
       "    <tr>\n",
       "      <th>1</th>\n",
       "      <td>1</td>\n",
       "      <td>12-02-2010</td>\n",
       "      <td>1641957.44</td>\n",
       "      <td>1</td>\n",
       "      <td>38.51</td>\n",
       "      <td>2.548</td>\n",
       "      <td>211.242170</td>\n",
       "      <td>8.106</td>\n",
       "      <td>0</td>\n",
       "      <td>0</td>\n",
       "      <td>0</td>\n",
       "      <td>0</td>\n",
       "      <td>1</td>\n",
       "      <td>0</td>\n",
       "      <td>0</td>\n",
       "    </tr>\n",
       "    <tr>\n",
       "      <th>2</th>\n",
       "      <td>1</td>\n",
       "      <td>19-02-2010</td>\n",
       "      <td>1611968.17</td>\n",
       "      <td>0</td>\n",
       "      <td>39.93</td>\n",
       "      <td>2.514</td>\n",
       "      <td>211.289143</td>\n",
       "      <td>8.106</td>\n",
       "      <td>0</td>\n",
       "      <td>0</td>\n",
       "      <td>1</td>\n",
       "      <td>0</td>\n",
       "      <td>0</td>\n",
       "      <td>0</td>\n",
       "      <td>0</td>\n",
       "    </tr>\n",
       "    <tr>\n",
       "      <th>3</th>\n",
       "      <td>1</td>\n",
       "      <td>26-02-2010</td>\n",
       "      <td>1409727.59</td>\n",
       "      <td>0</td>\n",
       "      <td>46.63</td>\n",
       "      <td>2.561</td>\n",
       "      <td>211.319643</td>\n",
       "      <td>8.106</td>\n",
       "      <td>0</td>\n",
       "      <td>0</td>\n",
       "      <td>1</td>\n",
       "      <td>0</td>\n",
       "      <td>0</td>\n",
       "      <td>0</td>\n",
       "      <td>0</td>\n",
       "    </tr>\n",
       "    <tr>\n",
       "      <th>4</th>\n",
       "      <td>1</td>\n",
       "      <td>05-03-2010</td>\n",
       "      <td>1554806.68</td>\n",
       "      <td>0</td>\n",
       "      <td>46.50</td>\n",
       "      <td>2.625</td>\n",
       "      <td>211.350143</td>\n",
       "      <td>8.106</td>\n",
       "      <td>0</td>\n",
       "      <td>0</td>\n",
       "      <td>1</td>\n",
       "      <td>0</td>\n",
       "      <td>0</td>\n",
       "      <td>0</td>\n",
       "      <td>0</td>\n",
       "    </tr>\n",
       "    <tr>\n",
       "      <th>...</th>\n",
       "      <td>...</td>\n",
       "      <td>...</td>\n",
       "      <td>...</td>\n",
       "      <td>...</td>\n",
       "      <td>...</td>\n",
       "      <td>...</td>\n",
       "      <td>...</td>\n",
       "      <td>...</td>\n",
       "      <td>...</td>\n",
       "      <td>...</td>\n",
       "      <td>...</td>\n",
       "      <td>...</td>\n",
       "      <td>...</td>\n",
       "      <td>...</td>\n",
       "      <td>...</td>\n",
       "    </tr>\n",
       "    <tr>\n",
       "      <th>6430</th>\n",
       "      <td>45</td>\n",
       "      <td>28-09-2012</td>\n",
       "      <td>713173.95</td>\n",
       "      <td>0</td>\n",
       "      <td>64.88</td>\n",
       "      <td>3.997</td>\n",
       "      <td>192.013558</td>\n",
       "      <td>8.684</td>\n",
       "      <td>0</td>\n",
       "      <td>0</td>\n",
       "      <td>1</td>\n",
       "      <td>0</td>\n",
       "      <td>0</td>\n",
       "      <td>0</td>\n",
       "      <td>0</td>\n",
       "    </tr>\n",
       "    <tr>\n",
       "      <th>6431</th>\n",
       "      <td>45</td>\n",
       "      <td>05-10-2012</td>\n",
       "      <td>733455.07</td>\n",
       "      <td>0</td>\n",
       "      <td>64.89</td>\n",
       "      <td>3.985</td>\n",
       "      <td>192.170412</td>\n",
       "      <td>8.667</td>\n",
       "      <td>0</td>\n",
       "      <td>0</td>\n",
       "      <td>1</td>\n",
       "      <td>0</td>\n",
       "      <td>0</td>\n",
       "      <td>0</td>\n",
       "      <td>0</td>\n",
       "    </tr>\n",
       "    <tr>\n",
       "      <th>6432</th>\n",
       "      <td>45</td>\n",
       "      <td>12-10-2012</td>\n",
       "      <td>734464.36</td>\n",
       "      <td>0</td>\n",
       "      <td>54.47</td>\n",
       "      <td>4.000</td>\n",
       "      <td>192.327265</td>\n",
       "      <td>8.667</td>\n",
       "      <td>0</td>\n",
       "      <td>0</td>\n",
       "      <td>1</td>\n",
       "      <td>0</td>\n",
       "      <td>0</td>\n",
       "      <td>0</td>\n",
       "      <td>0</td>\n",
       "    </tr>\n",
       "    <tr>\n",
       "      <th>6433</th>\n",
       "      <td>45</td>\n",
       "      <td>19-10-2012</td>\n",
       "      <td>718125.53</td>\n",
       "      <td>0</td>\n",
       "      <td>56.47</td>\n",
       "      <td>3.969</td>\n",
       "      <td>192.330854</td>\n",
       "      <td>8.667</td>\n",
       "      <td>0</td>\n",
       "      <td>0</td>\n",
       "      <td>1</td>\n",
       "      <td>0</td>\n",
       "      <td>0</td>\n",
       "      <td>0</td>\n",
       "      <td>0</td>\n",
       "    </tr>\n",
       "    <tr>\n",
       "      <th>6434</th>\n",
       "      <td>45</td>\n",
       "      <td>26-10-2012</td>\n",
       "      <td>760281.43</td>\n",
       "      <td>0</td>\n",
       "      <td>58.85</td>\n",
       "      <td>3.882</td>\n",
       "      <td>192.308899</td>\n",
       "      <td>8.667</td>\n",
       "      <td>0</td>\n",
       "      <td>0</td>\n",
       "      <td>1</td>\n",
       "      <td>0</td>\n",
       "      <td>0</td>\n",
       "      <td>0</td>\n",
       "      <td>0</td>\n",
       "    </tr>\n",
       "  </tbody>\n",
       "</table>\n",
       "<p>6435 rows × 15 columns</p>\n",
       "</div>"
      ],
      "text/plain": [
       "      Store        Date  Weekly_Sales  Holiday_Flag  Temperature  Fuel_Price  \\\n",
       "0         1  05-02-2010    1643690.90             0        42.31       2.572   \n",
       "1         1  12-02-2010    1641957.44             1        38.51       2.548   \n",
       "2         1  19-02-2010    1611968.17             0        39.93       2.514   \n",
       "3         1  26-02-2010    1409727.59             0        46.63       2.561   \n",
       "4         1  05-03-2010    1554806.68             0        46.50       2.625   \n",
       "...     ...         ...           ...           ...          ...         ...   \n",
       "6430     45  28-09-2012     713173.95             0        64.88       3.997   \n",
       "6431     45  05-10-2012     733455.07             0        64.89       3.985   \n",
       "6432     45  12-10-2012     734464.36             0        54.47       4.000   \n",
       "6433     45  19-10-2012     718125.53             0        56.47       3.969   \n",
       "6434     45  26-10-2012     760281.43             0        58.85       3.882   \n",
       "\n",
       "             CPI  Unemployment  Boxing Day  Labour Day  No Holiday  Pre-Xmas  \\\n",
       "0     211.096358         8.106           0           0           1         0   \n",
       "1     211.242170         8.106           0           0           0         0   \n",
       "2     211.289143         8.106           0           0           1         0   \n",
       "3     211.319643         8.106           0           0           1         0   \n",
       "4     211.350143         8.106           0           0           1         0   \n",
       "...          ...           ...         ...         ...         ...       ...   \n",
       "6430  192.013558         8.684           0           0           1         0   \n",
       "6431  192.170412         8.667           0           0           1         0   \n",
       "6432  192.327265         8.667           0           0           1         0   \n",
       "6433  192.330854         8.667           0           0           1         0   \n",
       "6434  192.308899         8.667           0           0           1         0   \n",
       "\n",
       "      Super Bowl  Thanksgiving  Xmas  \n",
       "0              0             0     0  \n",
       "1              1             0     0  \n",
       "2              0             0     0  \n",
       "3              0             0     0  \n",
       "4              0             0     0  \n",
       "...          ...           ...   ...  \n",
       "6430           0             0     0  \n",
       "6431           0             0     0  \n",
       "6432           0             0     0  \n",
       "6433           0             0     0  \n",
       "6434           0             0     0  \n",
       "\n",
       "[6435 rows x 15 columns]"
      ]
     },
     "execution_count": 17,
     "metadata": {},
     "output_type": "execute_result"
    }
   ],
   "source": [
    "df = pd.concat([df, dummy], axis=1)\n",
    "df = df.drop('Holiday',axis = 1)\n",
    "\n",
    "df"
   ]
  },
  {
   "cell_type": "markdown",
   "id": "751eb809",
   "metadata": {},
   "source": [
    "Looking good!"
   ]
  },
  {
   "cell_type": "markdown",
   "id": "5a08b09c",
   "metadata": {},
   "source": [
    "# 5. Linear Regression"
   ]
  },
  {
   "cell_type": "markdown",
   "id": "10b08540",
   "metadata": {},
   "source": [
    "Ok... now let's get to the fun part.\n",
    "\n",
    "First, let's see the correlations amongst our data."
   ]
  },
  {
   "cell_type": "code",
   "execution_count": 18,
   "id": "aaf003c7",
   "metadata": {},
   "outputs": [
    {
     "data": {
      "text/plain": [
       "<AxesSubplot:>"
      ]
     },
     "execution_count": 18,
     "metadata": {},
     "output_type": "execute_result"
    },
    {
     "data": {
      "image/png": "[encoded data removed]",
      "text/plain": [
       "<Figure size 1080x864 with 2 Axes>"
      ]
     },
     "metadata": {
      "needs_background": "light"
     },
     "output_type": "display_data"
    }
   ],
   "source": [
    "plt.figure(figsize = (15,12))\n",
    "sns.heatmap(df.corr(),cmap='RdYlBu', annot=True)"
   ]
  },
  {
   "cell_type": "markdown",
   "id": "cef03fdb",
   "metadata": {},
   "source": [
    "One final step to our dataframe before we get going, which is to one hot encode the \"store\" column."
   ]
  },
  {
   "cell_type": "code",
   "execution_count": 19,
   "id": "fec9af5f",
   "metadata": {},
   "outputs": [],
   "source": [
    "y = pd.get_dummies(df['Store'])\n",
    "df = df.drop('Store',axis = 1)\n",
    "\n",
    "# Join the dummy variables to our previous data set\n",
    "df = df.join(y)"
   ]
  },
  {
   "cell_type": "markdown",
   "id": "ac52be6d",
   "metadata": {},
   "source": [
    "Next let's run our linear regression analysis."
   ]
  },
  {
   "cell_type": "code",
   "execution_count": 20,
   "id": "4840e26a",
   "metadata": {},
   "outputs": [
    {
     "name": "stdout",
     "output_type": "stream",
     "text": [
      "                            OLS Regression Results                            \n",
      "==============================================================================\n",
      "Dep. Variable:           Weekly_Sales   R-squared:                       0.954\n",
      "Model:                            OLS   Adj. R-squared:                  0.954\n",
      "Method:                 Least Squares   F-statistic:                     2449.\n",
      "Date:                Tue, 14 Dec 2021   Prob (F-statistic):               0.00\n",
      "Time:                        23:17:11   Log-Likelihood:                -84447.\n",
      "No. Observations:                6435   AIC:                         1.690e+05\n",
      "Df Residuals:                    6380   BIC:                         1.694e+05\n",
      "Df Model:                          54                                         \n",
      "Covariance Type:            nonrobust                                         \n",
      "================================================================================\n",
      "                   coef    std err          t      P>|t|      [0.025      0.975]\n",
      "--------------------------------------------------------------------------------\n",
      "Holiday_Flag    9.7e+05   1.03e+05      9.426      0.000    7.68e+05    1.17e+06\n",
      "Temperature    508.1561    106.999      4.749      0.000     298.401     717.911\n",
      "Fuel_Price   -1.922e+04   5452.404     -3.524      0.000   -2.99e+04   -8527.262\n",
      "CPI            308.4297    786.211      0.392      0.695   -1232.808    1849.667\n",
      "Unemployment -2.579e+04   3258.617     -7.914      0.000   -3.22e+04   -1.94e+04\n",
      "Boxing Day    7.116e+04   2.82e+04      2.524      0.012    1.59e+04    1.26e+05\n",
      "Labour Day    1.328e+05   2.74e+04      4.848      0.000    7.91e+04    1.87e+05\n",
      "No Holiday    1.093e+06   1.28e+05      8.524      0.000    8.42e+05    1.34e+06\n",
      "Pre-Xmas      1.433e+06   1.29e+05     11.094      0.000    1.18e+06    1.69e+06\n",
      "Super Bowl    1.899e+05   2.73e+04      6.967      0.000    1.36e+05    2.43e+05\n",
      "Thanksgiving  5.762e+05    2.8e+04     20.613      0.000    5.21e+05    6.31e+05\n",
      "Xmas          1.834e+06   1.29e+05     14.180      0.000    1.58e+06    2.09e+06\n",
      "1             5.965e+05   4.65e+04     12.830      0.000    5.05e+05    6.88e+05\n",
      "2             9.675e+05   4.62e+04     20.922      0.000    8.77e+05    1.06e+06\n",
      "3            -5.699e+05   4.85e+04    -11.752      0.000   -6.65e+05   -4.75e+05\n",
      "4             1.123e+06   2.78e+04     40.432      0.000    1.07e+06    1.18e+06\n",
      "5            -6.754e+05   4.52e+04    -14.946      0.000   -7.64e+05   -5.87e+05\n",
      "6             5.789e+05   4.63e+04     12.494      0.000    4.88e+05     6.7e+05\n",
      "7            -3.412e+05   3.11e+04    -10.960      0.000   -4.02e+05    -2.8e+05\n",
      "8            -8.732e+04   4.71e+04     -1.852      0.064    -1.8e+05    5096.719\n",
      "9            -4.546e+05   4.73e+04     -9.611      0.000   -5.47e+05   -3.62e+05\n",
      "10            9.918e+05   2.59e+04     38.289      0.000    9.41e+05    1.04e+06\n",
      "11            3.832e+05   4.85e+04      7.903      0.000    2.88e+05    4.78e+05\n",
      "12            2.256e+05   2.67e+04      8.438      0.000    1.73e+05    2.78e+05\n",
      "13            1.065e+06   2.64e+04     40.369      0.000    1.01e+06    1.12e+06\n",
      "14            1.107e+06   2.54e+04     43.656      0.000    1.06e+06    1.16e+06\n",
      "15           -2.853e+05   2.17e+04    -13.158      0.000   -3.28e+05   -2.43e+05\n",
      "16           -4.496e+05   2.81e+04    -15.973      0.000   -5.05e+05   -3.94e+05\n",
      "17           -5.322e+04   2.71e+04     -1.967      0.049   -1.06e+05    -193.053\n",
      "18            1.944e+05   2.06e+04      9.416      0.000    1.54e+05    2.35e+05\n",
      "19            5.361e+05   2.17e+04     24.726      0.000    4.94e+05    5.79e+05\n",
      "20            1.155e+06   4.02e+04     28.735      0.000    1.08e+06    1.23e+06\n",
      "21           -2.025e+05   4.62e+04     -4.380      0.000   -2.93e+05   -1.12e+05\n",
      "22            1.164e+05   1.85e+04      6.279      0.000       8e+04    1.53e+05\n",
      "23            3.976e+05    2.6e+04     15.286      0.000    3.47e+05    4.49e+05\n",
      "24            4.586e+05   2.14e+04     21.481      0.000    4.17e+05       5e+05\n",
      "25           -2.441e+05   4.02e+04     -6.070      0.000   -3.23e+05   -1.65e+05\n",
      "26            9.261e+04   2.14e+04      4.336      0.000    5.07e+04    1.34e+05\n",
      "27            8.627e+05    1.9e+04     45.297      0.000    8.25e+05       9e+05\n",
      "28            5.401e+05   2.67e+04     20.204      0.000    4.88e+05    5.92e+05\n",
      "29           -3.267e+05   2.04e+04    -15.981      0.000   -3.67e+05   -2.87e+05\n",
      "30             -5.2e+05   4.62e+04    -11.246      0.000   -6.11e+05   -4.29e+05\n",
      "31            4.373e+05   4.62e+04      9.457      0.000    3.47e+05    5.28e+05\n",
      "32            2.481e+05   3.11e+04      7.988      0.000    1.87e+05    3.09e+05\n",
      "33           -6.456e+05   2.58e+04    -25.021      0.000   -6.96e+05   -5.95e+05\n",
      "34             9.98e+04   2.37e+04      4.212      0.000    5.34e+04    1.46e+05\n",
      "35            2.445e+04   1.81e+04      1.353      0.176    -1.1e+04    5.99e+04\n",
      "36             -5.8e+05    4.6e+04    -12.621      0.000    -6.7e+05    -4.9e+05\n",
      "37           -4.343e+05   4.59e+04     -9.461      0.000   -5.24e+05   -3.44e+05\n",
      "38           -3.977e+05   2.67e+04    -14.877      0.000    -4.5e+05   -3.45e+05\n",
      "39            4.978e+05   4.59e+04     10.844      0.000    4.08e+05    5.88e+05\n",
      "40           -2.754e+04    2.6e+04     -1.058      0.290   -7.85e+04    2.35e+04\n",
      "41            3.103e+05   2.87e+04     10.812      0.000    2.54e+05    3.67e+05\n",
      "42           -3.512e+05   2.59e+04    -13.558      0.000   -4.02e+05      -3e+05\n",
      "43           -2.633e+05   4.41e+04     -5.975      0.000    -3.5e+05   -1.77e+05\n",
      "44            -6.43e+05   2.68e+04    -24.032      0.000   -6.95e+05   -5.91e+05\n",
      "45           -1.277e+05   2.54e+04     -5.036      0.000   -1.77e+05    -7.8e+04\n",
      "==============================================================================\n",
      "Omnibus:                     1415.868   Durbin-Watson:                   1.087\n",
      "Prob(Omnibus):                  0.000   Jarque-Bera (JB):            27563.791\n",
      "Skew:                           0.546   Prob(JB):                         0.00\n",
      "Kurtosis:                      13.080   Cond. No.                     4.24e+18\n",
      "==============================================================================\n",
      "\n",
      "Notes:\n",
      "[1] Standard Errors assume that the covariance matrix of the errors is correctly specified.\n",
      "[2] The smallest eigenvalue is 1.24e-29. This might indicate that there are\n",
      "strong multicollinearity problems or that the design matrix is singular.\n"
     ]
    }
   ],
   "source": [
    "x=df.drop(columns=['Weekly_Sales','Date'],axis=1) #independent\n",
    "y=df['Weekly_Sales'] #dependent\n",
    "\n",
    "lin_reg = sm.OLS(y, x)\n",
    "reg_results = lin_reg.fit()\n",
    "print(reg_results.summary())"
   ]
  },
  {
   "cell_type": "markdown",
   "id": "ed912df6",
   "metadata": {},
   "source": [
    "Amazing! That is a high R-squared value.\n",
    "\n",
    "But, it looks like CPI has a relatively huge p-value, so let's kick it out. "
   ]
  },
  {
   "cell_type": "code",
   "execution_count": 21,
   "id": "fedf4903",
   "metadata": {},
   "outputs": [
    {
     "name": "stdout",
     "output_type": "stream",
     "text": [
      "                            OLS Regression Results                            \n",
      "==============================================================================\n",
      "Dep. Variable:           Weekly_Sales   R-squared:                       0.954\n",
      "Model:                            OLS   Adj. R-squared:                  0.954\n",
      "Method:                 Least Squares   F-statistic:                     2496.\n",
      "Date:                Tue, 14 Dec 2021   Prob (F-statistic):               0.00\n",
      "Time:                        23:17:11   Log-Likelihood:                -84447.\n",
      "No. Observations:                6435   AIC:                         1.690e+05\n",
      "Df Residuals:                    6381   BIC:                         1.694e+05\n",
      "Df Model:                          53                                         \n",
      "Covariance Type:            nonrobust                                         \n",
      "================================================================================\n",
      "                   coef    std err          t      P>|t|      [0.025      0.975]\n",
      "--------------------------------------------------------------------------------\n",
      "Holiday_Flag  1.009e+06   2.52e+04     39.968      0.000     9.6e+05    1.06e+06\n",
      "Temperature    508.5206    106.988      4.753      0.000     298.788     718.254\n",
      "Fuel_Price    -1.79e+04   4295.444     -4.167      0.000   -2.63e+04   -9477.996\n",
      "Unemployment -2.634e+04   2934.580     -8.977      0.000   -3.21e+04   -2.06e+04\n",
      "Boxing Day    8.106e+04   1.26e+04      6.448      0.000    5.64e+04    1.06e+05\n",
      "Labour Day    1.425e+05   1.18e+04     12.039      0.000    1.19e+05    1.66e+05\n",
      "No Holiday    1.142e+06   3.15e+04     36.221      0.000    1.08e+06     1.2e+06\n",
      "Pre-Xmas      1.482e+06   3.34e+04     44.409      0.000    1.42e+06    1.55e+06\n",
      "Super Bowl    1.996e+05   1.11e+04     17.937      0.000    1.78e+05    2.21e+05\n",
      "Thanksgiving   5.86e+05   1.26e+04     46.474      0.000    5.61e+05    6.11e+05\n",
      "Xmas          1.883e+06   3.33e+04     56.471      0.000    1.82e+06    1.95e+06\n",
      "1             6.143e+05   1.02e+04     60.323      0.000    5.94e+05    6.34e+05\n",
      "2             9.852e+05   1.02e+04     96.719      0.000    9.65e+05    1.01e+06\n",
      "3            -5.513e+05   1.02e+04    -54.149      0.000   -5.71e+05   -5.31e+05\n",
      "4             1.113e+06   1.08e+04    103.179      0.000    1.09e+06    1.13e+06\n",
      "5            -6.582e+05   1.05e+04    -62.424      0.000   -6.79e+05   -6.38e+05\n",
      "6             5.966e+05   1.03e+04     57.714      0.000    5.76e+05    6.17e+05\n",
      "7            -3.298e+05    1.1e+04    -30.098      0.000   -3.51e+05   -3.08e+05\n",
      "8            -6.931e+04   1.07e+04     -6.500      0.000   -9.02e+04   -4.84e+04\n",
      "9            -4.365e+05   1.07e+04    -40.816      0.000   -4.58e+05   -4.16e+05\n",
      "10            9.826e+05   1.11e+04     88.844      0.000    9.61e+05       1e+06\n",
      "11            4.018e+05   1.02e+04     39.404      0.000    3.82e+05    4.22e+05\n",
      "12             2.19e+05   2.08e+04     10.529      0.000    1.78e+05     2.6e+05\n",
      "13            1.055e+06   1.01e+04    104.359      0.000    1.04e+06    1.08e+06\n",
      "14            1.116e+06   1.11e+04    100.787      0.000    1.09e+06    1.14e+06\n",
      "15           -2.927e+05   1.06e+04    -27.491      0.000   -3.14e+05   -2.72e+05\n",
      "16           -4.394e+05   1.04e+04    -42.158      0.000    -4.6e+05   -4.19e+05\n",
      "17           -6.303e+04   1.03e+04     -6.090      0.000   -8.33e+04   -4.27e+04\n",
      "18            1.876e+05   1.14e+04     16.521      0.000    1.65e+05     2.1e+05\n",
      "19            5.287e+05   1.06e+04     49.671      0.000    5.08e+05     5.5e+05\n",
      "20             1.17e+06   1.02e+04    115.286      0.000    1.15e+06    1.19e+06\n",
      "21           -1.848e+05   1.02e+04    -18.134      0.000   -2.05e+05   -1.65e+05\n",
      "22            1.104e+05   1.05e+04     10.482      0.000    8.97e+04    1.31e+05\n",
      "23            3.886e+05   1.22e+04     31.786      0.000    3.65e+05    4.13e+05\n",
      "24            4.515e+05   1.11e+04     40.764      0.000     4.3e+05    4.73e+05\n",
      "25           -2.288e+05   1.02e+04    -22.498      0.000   -2.49e+05   -2.09e+05\n",
      "26            8.532e+04   1.05e+04      8.125      0.000    6.47e+04    1.06e+05\n",
      "27            8.565e+05   1.06e+04     80.604      0.000    8.36e+05    8.77e+05\n",
      "28            5.335e+05   2.08e+04     25.651      0.000    4.93e+05    5.74e+05\n",
      "29           -3.329e+05   1.29e+04    -25.842      0.000   -3.58e+05   -3.08e+05\n",
      "30           -5.023e+05   1.02e+04    -49.280      0.000   -5.22e+05   -4.82e+05\n",
      "31             4.55e+05   1.02e+04     44.634      0.000    4.35e+05    4.75e+05\n",
      "32            2.596e+05   1.08e+04     24.018      0.000    2.38e+05    2.81e+05\n",
      "33           -6.547e+05   1.13e+04    -57.814      0.000   -6.77e+05   -6.33e+05\n",
      "34            9.196e+04   1.27e+04      7.222      0.000     6.7e+04    1.17e+05\n",
      "35             1.89e+04   1.12e+04      1.680      0.093   -3150.672    4.09e+04\n",
      "36           -5.624e+05   1.03e+04    -54.509      0.000   -5.83e+05   -5.42e+05\n",
      "37           -4.167e+05   1.03e+04    -40.364      0.000   -4.37e+05   -3.96e+05\n",
      "38           -4.043e+05   2.08e+04    -19.438      0.000   -4.45e+05   -3.64e+05\n",
      "39            5.153e+05   1.03e+04     49.954      0.000    4.95e+05    5.36e+05\n",
      "40           -3.654e+04   1.22e+04     -2.986      0.003   -6.05e+04   -1.26e+04\n",
      "41            3.209e+05   1.02e+04     31.593      0.000    3.01e+05    3.41e+05\n",
      "42           -3.604e+05   1.11e+04    -32.585      0.000   -3.82e+05   -3.39e+05\n",
      "43           -2.467e+05   1.28e+04    -19.268      0.000   -2.72e+05   -2.22e+05\n",
      "44           -6.527e+05   1.02e+04    -64.039      0.000   -6.73e+05   -6.33e+05\n",
      "45           -1.188e+05   1.11e+04    -10.724      0.000    -1.4e+05   -9.71e+04\n",
      "==============================================================================\n",
      "Omnibus:                     1415.520   Durbin-Watson:                   1.087\n",
      "Prob(Omnibus):                  0.000   Jarque-Bera (JB):            27501.820\n",
      "Skew:                           0.547   Prob(JB):                         0.00\n",
      "Kurtosis:                      13.069   Cond. No.                     1.86e+18\n",
      "==============================================================================\n",
      "\n",
      "Notes:\n",
      "[1] Standard Errors assume that the covariance matrix of the errors is correctly specified.\n",
      "[2] The smallest eigenvalue is 7.58e-30. This might indicate that there are\n",
      "strong multicollinearity problems or that the design matrix is singular.\n"
     ]
    }
   ],
   "source": [
    "x2=df.drop(columns=['Weekly_Sales','Date','CPI'],axis=1) #independent\n",
    "y2=df['Weekly_Sales'] #dependent\n",
    "\n",
    "lin_reg2 = sm.OLS(y2, x2)\n",
    "reg_results2 = lin_reg2.fit()\n",
    "print(reg_results2.summary())"
   ]
  },
  {
   "cell_type": "markdown",
   "id": "caf46c12",
   "metadata": {},
   "source": [
    "Pretty much the same! But now all of our independent variables have low p-values, so we can be more confident in our model!"
   ]
  },
  {
   "cell_type": "markdown",
   "id": "b29d71e9",
   "metadata": {},
   "source": [
    "# 6. Model Visuals"
   ]
  },
  {
   "cell_type": "markdown",
   "id": "d803ccb8",
   "metadata": {},
   "source": [
    "Based on code from another contributor, found here: https://www.kaggle.com/myselfpnkj/walmart-sales-prediction-91-9-accurcey-rate\n",
    "\n",
    "I liked the visuals that this person used. The data is based on my own project above. I was able to improve on this author's accuracy rate (their 91.9% vs. my own 95.4%)."
   ]
  },
  {
   "cell_type": "code",
   "execution_count": 22,
   "id": "0659085e",
   "metadata": {},
   "outputs": [],
   "source": [
    "from sklearn.model_selection import train_test_split\n",
    "x_train, x_test,y_train, y_test=train_test_split(x2,y2,train_size=0.75,random_state=1)"
   ]
  },
  {
   "cell_type": "code",
   "execution_count": 23,
   "id": "1dac99df",
   "metadata": {},
   "outputs": [],
   "source": [
    "from sklearn.linear_model import LinearRegression"
   ]
  },
  {
   "cell_type": "code",
   "execution_count": 24,
   "id": "b5542584",
   "metadata": {},
   "outputs": [],
   "source": [
    "model=LinearRegression()"
   ]
  },
  {
   "cell_type": "code",
   "execution_count": 25,
   "id": "2f48e72b",
   "metadata": {},
   "outputs": [
    {
     "data": {
      "text/plain": [
       "LinearRegression()"
      ]
     },
     "execution_count": 25,
     "metadata": {},
     "output_type": "execute_result"
    }
   ],
   "source": [
    "model.fit(x_train,y_train)"
   ]
  },
  {
   "cell_type": "code",
   "execution_count": 26,
   "id": "6f4059df",
   "metadata": {},
   "outputs": [],
   "source": [
    "y_predict=model.predict(x_test)"
   ]
  },
  {
   "cell_type": "code",
   "execution_count": 27,
   "id": "520db24e",
   "metadata": {},
   "outputs": [],
   "source": [
    "from sklearn.metrics import r2_score,mean_squared_error"
   ]
  },
  {
   "cell_type": "code",
   "execution_count": 28,
   "id": "51cf72f7",
   "metadata": {},
   "outputs": [
    {
     "name": "stdout",
     "output_type": "stream",
     "text": [
      "Accuracy of model is: 95.25%\n",
      "Mean Square Error : 15600048596.473751\n"
     ]
    }
   ],
   "source": [
    "r2=r2_score(y_test,y_predict)\n",
    "MSE=mean_squared_error(y_test,y_predict)\n",
    "print('Accuracy of model is: ' + str(round(r2*100,2)) + '%') # Its R square value\n",
    "print('Mean Square Error :',MSE)"
   ]
  },
  {
   "cell_type": "code",
   "execution_count": 29,
   "id": "06e810dd",
   "metadata": {},
   "outputs": [
    {
     "data": {
      "image/png": "[encoded data removed]",
      "text/plain": [
       "<Figure size 1080x432 with 1 Axes>"
      ]
     },
     "metadata": {
      "needs_background": "light"
     },
     "output_type": "display_data"
    }
   ],
   "source": [
    "plt.figure(figsize=(15,6))\n",
    "sns.regplot(x=y_test, y=y_predict) \n",
    "plt.show()"
   ]
  },
  {
   "cell_type": "code",
   "execution_count": 30,
   "id": "0e8ca978",
   "metadata": {},
   "outputs": [
    {
     "data": {
      "text/html": [
       "<div>\n",
       "<style scoped>\n",
       "    .dataframe tbody tr th:only-of-type {\n",
       "        vertical-align: middle;\n",
       "    }\n",
       "\n",
       "    .dataframe tbody tr th {\n",
       "        vertical-align: top;\n",
       "    }\n",
       "\n",
       "    .dataframe thead th {\n",
       "        text-align: right;\n",
       "    }\n",
       "</style>\n",
       "<table border=\"1\" class=\"dataframe\">\n",
       "  <thead>\n",
       "    <tr style=\"text-align: right;\">\n",
       "      <th></th>\n",
       "      <th>Actual</th>\n",
       "      <th>Predicted</th>\n",
       "      <th>Error</th>\n",
       "      <th>Accuracy%</th>\n",
       "    </tr>\n",
       "  </thead>\n",
       "  <tbody>\n",
       "    <tr>\n",
       "      <th>0</th>\n",
       "      <td>1870619.23</td>\n",
       "      <td>2045638.0</td>\n",
       "      <td>-175018.77</td>\n",
       "      <td>9.36</td>\n",
       "    </tr>\n",
       "    <tr>\n",
       "      <th>1</th>\n",
       "      <td>448391.99</td>\n",
       "      <td>481195.0</td>\n",
       "      <td>-32803.01</td>\n",
       "      <td>7.32</td>\n",
       "    </tr>\n",
       "    <tr>\n",
       "      <th>2</th>\n",
       "      <td>1272948.27</td>\n",
       "      <td>1359042.0</td>\n",
       "      <td>-86093.73</td>\n",
       "      <td>6.76</td>\n",
       "    </tr>\n",
       "    <tr>\n",
       "      <th>3</th>\n",
       "      <td>744969.42</td>\n",
       "      <td>726821.0</td>\n",
       "      <td>18148.42</td>\n",
       "      <td>-2.44</td>\n",
       "    </tr>\n",
       "    <tr>\n",
       "      <th>4</th>\n",
       "      <td>325345.41</td>\n",
       "      <td>304775.0</td>\n",
       "      <td>20570.41</td>\n",
       "      <td>-6.32</td>\n",
       "    </tr>\n",
       "    <tr>\n",
       "      <th>...</th>\n",
       "      <td>...</td>\n",
       "      <td>...</td>\n",
       "      <td>...</td>\n",
       "      <td>...</td>\n",
       "    </tr>\n",
       "    <tr>\n",
       "      <th>1604</th>\n",
       "      <td>2411790.21</td>\n",
       "      <td>1852341.0</td>\n",
       "      <td>559449.21</td>\n",
       "      <td>-23.20</td>\n",
       "    </tr>\n",
       "    <tr>\n",
       "      <th>1605</th>\n",
       "      <td>470281.03</td>\n",
       "      <td>332719.0</td>\n",
       "      <td>137562.03</td>\n",
       "      <td>-29.25</td>\n",
       "    </tr>\n",
       "    <tr>\n",
       "      <th>1606</th>\n",
       "      <td>667151.46</td>\n",
       "      <td>753305.0</td>\n",
       "      <td>-86153.54</td>\n",
       "      <td>12.91</td>\n",
       "    </tr>\n",
       "    <tr>\n",
       "      <th>1607</th>\n",
       "      <td>957356.84</td>\n",
       "      <td>885901.0</td>\n",
       "      <td>71455.84</td>\n",
       "      <td>-7.46</td>\n",
       "    </tr>\n",
       "    <tr>\n",
       "      <th>1608</th>\n",
       "      <td>453210.24</td>\n",
       "      <td>430445.0</td>\n",
       "      <td>22765.24</td>\n",
       "      <td>-5.02</td>\n",
       "    </tr>\n",
       "  </tbody>\n",
       "</table>\n",
       "<p>1609 rows × 4 columns</p>\n",
       "</div>"
      ],
      "text/plain": [
       "          Actual  Predicted      Error  Accuracy%\n",
       "0     1870619.23  2045638.0 -175018.77       9.36\n",
       "1      448391.99   481195.0  -32803.01       7.32\n",
       "2     1272948.27  1359042.0  -86093.73       6.76\n",
       "3      744969.42   726821.0   18148.42      -2.44\n",
       "4      325345.41   304775.0   20570.41      -6.32\n",
       "...          ...        ...        ...        ...\n",
       "1604  2411790.21  1852341.0  559449.21     -23.20\n",
       "1605   470281.03   332719.0  137562.03     -29.25\n",
       "1606   667151.46   753305.0  -86153.54      12.91\n",
       "1607   957356.84   885901.0   71455.84      -7.46\n",
       "1608   453210.24   430445.0   22765.24      -5.02\n",
       "\n",
       "[1609 rows x 4 columns]"
      ]
     },
     "execution_count": 30,
     "metadata": {},
     "output_type": "execute_result"
    }
   ],
   "source": [
    "y_error=y_test-y_predict\n",
    "accuracy=round((y_predict-y_test)*100/y_test,2)\n",
    "\n",
    "error_data=pd.DataFrame(np.array([y_test,y_predict,y_error,accuracy\n",
    "                                 ])).T\n",
    "error_data=error_data.rename(columns={0:'Actual',1:'Predicted',2:'Error',3:'Accuracy%'})\n",
    "error_data"
   ]
  },
  {
   "cell_type": "code",
   "execution_count": 31,
   "id": "fd59ba83",
   "metadata": {},
   "outputs": [
    {
     "data": {
      "image/png": "[encoded data removed]",
      "text/plain": [
       "<Figure size 1224x360 with 1 Axes>"
      ]
     },
     "metadata": {
      "needs_background": "light"
     },
     "output_type": "display_data"
    }
   ],
   "source": [
    "plt.figure(figsize=(17,5))\n",
    "no_of_data_show =25 # type here how many data you want to show\n",
    "predicted = list(error_data['Predicted'])[0:no_of_data_show] \n",
    "actual = list(error_data['Actual'])[0:no_of_data_show]\n",
    "\n",
    "n=len(predicted) \n",
    "r = np.arange(n)\n",
    "width = 0.25\n",
    "\n",
    "  \n",
    "plt.bar(r, predicted, color = 'y',width = width, edgecolor = 'black',label='Predicted')\n",
    "plt.bar(r + width, actual, color = 'g',width = width, edgecolor = 'black',label='Actual')\n",
    "  \n",
    "plt.xlabel(\"No. of Datapoints\",fontsize=12,weight=\"bold\")\n",
    "plt.ylabel(\"Data Range\",fontsize=12,weight=\"bold\")\n",
    "plt.title(\"Data Accuracy\\n\",fontsize=20,weight=\"bold\")\n",
    "plt.legend(fontsize=15)\n",
    "plt.grid(color='b', linestyle='-', linewidth=0.9)\n",
    "plt.xticks(np.arange(0, no_of_data_show, step=1)) \n",
    "plt.show()"
   ]
  },
  {
   "cell_type": "markdown",
   "id": "2a0081e4",
   "metadata": {},
   "source": [
    "# 7. Takeaways"
   ]
  },
  {
   "cell_type": "markdown",
   "id": "1861a4b0",
   "metadata": {},
   "source": [
    "Here are the key takeaways from our analysis, in bullet point form:\n",
    "\n",
    "1. The first thing is that each store brings in wildly different average sales per week. I didn't realize this at first, but this makes total sense: a store located in the middle of downtown New York, for example, will pull **much** more sales than one in the middle of the countryside. So the first step in predicting sales is to know which store we are talking about.\n",
    "\n",
    "2. Secondly, we were right to hypothesize that holidays do affect sales, but some more than others. Specifically, only Thanksgiving, Pre-Christmas and Christmas holiday weeks affected sales to a significant degree.\n",
    "\n",
    "3. Things like temperature, fuel price and unemployment do seem to affect sales. Temperature is kind of a given, because low temperature is linked to the holiday season, which is when the sales start to explode. As for the latter two, it makes perfect sense that with higher fuel prices and unemployment, people have less disposable income, and thus feel less inclined to go shopping for things they don't need. CPI not being relevant is surprising, however, but if I had to speculate, perhaps rising prices alone don't necessarily deter people away from spending.\n",
    "\n",
    "**In conclusion: in order to make sure we are stocked up to meet our customers' demands, we have designed a model that allows us to forecast future sales. Our model pays special attention to store number, holidays, temperature, fuel price, and unemployment numbers to generate predictions.**"
   ]
  }
 ],
 "metadata": {
  "kernelspec": {
   "display_name": "Python 3",
   "language": "python",
   "name": "python3"
  },
  "language_info": {
   "codemirror_mode": {
    "name": "ipython",
    "version": 3
   },
   "file_extension": ".py",
   "mimetype": "text/x-python",
   "name": "python",
   "nbconvert_exporter": "python",
   "pygments_lexer": "ipython3",
   "version": "3.8.8"
  },
  "varInspector": {
   "cols": {
    "lenName": 16,
    "lenType": 16,
    "lenVar": 40
   },
   "kernels_config": {
    "python": {
     "delete_cmd_postfix": "",
     "delete_cmd_prefix": "del ",
     "library": "var_list.py",
     "varRefreshCmd": "print(var_dic_list())"
    },
    "r": {
     "delete_cmd_postfix": ") ",
     "delete_cmd_prefix": "rm(",
     "library": "var_list.r",
     "varRefreshCmd": "cat(var_dic_list()) "
    }
   },
   "types_to_exclude": [
    "module",
    "function",
    "builtin_function_or_method",
    "instance",
    "_Feature"
   ],
   "window_display": false
  }
 },
 "nbformat": 4,
 "nbformat_minor": 5
}
